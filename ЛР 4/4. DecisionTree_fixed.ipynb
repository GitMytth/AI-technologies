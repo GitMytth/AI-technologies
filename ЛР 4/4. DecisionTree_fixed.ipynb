{
 "cells": [
  {
   "cell_type": "code",
   "execution_count": 1,
   "id": "c1541101",
   "metadata": {},
   "outputs": [],
   "source": [
    "import pandas as pd\n",
    "import numpy as np\n",
    "import seaborn as sns\n",
    "import scipy as sp\n",
    "import matplotlib.pyplot as plt\n",
    "from sklearn.metrics import classification_report , accuracy_score, recall_score, precision_score, f1_score, confusion_matrix\n",
    "from sklearn.preprocessing import LabelEncoder, StandardScaler, MinMaxScaler\n",
    "from sklearn.model_selection import train_test_split, cross_val_score, GridSearchCV\n",
    "from sklearn.ensemble import RandomForestClassifier\n",
    "from sklearn.tree import DecisionTreeClassifier, plot_tree\n",
    "from sklearn.neighbors import KNeighborsClassifier"
   ]
  },
  {
   "cell_type": "markdown",
   "id": "b8f672bc",
   "metadata": {},
   "source": [
    "## Лабораторная работа №4: Классификация. Деревья решений\n",
    "\n",
    "[Лекция](../lectures/lecture_4/lecture_4.ipynb)\n",
    "\n",
    "1. Считать в `pandas.DataFrame` любой источник данных: CSV, JSON, Excel-файл, HTML-таблицу и т.п.\n",
    "2. Датасет и подготовка данных:\n",
    "   - Привести описание датасета.\n",
    "   - Осуществить предобработку данных (избавиться от `null`, убрать некоторые признаки и т.п.) - \"подчистить данные\".\n",
    "   - Закодировать категориальные признаки при необходимости.\n",
    "   - Нормализовать данные.\n",
    "   - Разбить выборку на обучающую и тестовую.\n",
    "     > Далее используем обучающую выборку, в том числе для метрик.\n",
    "3. Дерево решений:\n",
    "   - С использованием `GridSearchCV` осуществить подбор гиперпараметра `DecisionTreeClassifier` (как минимум `max_depth`, `max_features`, другие параметры - по желанию.)\n",
    "   - Вывести значения гиперпараметра и метрик для наилучшей модели `DecisionTreeClassifier` ($accuracy$, $precision$, $recall$, $\\textit{f-measure}$).\n",
    "   - Для полученного наилучшего дерева вывести `feature_importances`, отсортировать их по убыванию.\n",
    "   - Осуществить фильтрацию признаков (по какому-нибудь значению порога важности признака).\n",
    "   - Подобрать лучшую модель с использованием `GridSearchCV` на обучающей выборке с отфильтрованными признаками.\n",
    "   - Вывести полученные гиперпараметры лучшей модели.\n",
    "   - Сравнить метрики до и после фильтрации признаков лучших моделей.\n",
    "4. Случайный лес\n",
    "   - Построить случайный лес (`RandomForestClassifier`), c использованием `GridSearchCV` осуществить подбор гиперпараметра.\n",
    "   - Вывести полученные гиперпараметры лучшей модели случайного леса.\n",
    "   - Осуществить фильтрацию признаков.\n",
    "   - Подобрать лучшую модель с использованием `GridSearchCV` на обучающей выборке с отфильтрованными признаками.\n",
    "   - Вывести полученные гиперпараметры лучшей модели случайного леса.\n",
    "   - Сравнить метрики до и после фильтрации признаков лучших моделей.\n",
    "5. Метод ближайших соседей:\n",
    "   - С использованием `GridSearchCV` осуществить подбор гиперпараметра `KNeighborsClassifier` (`n_neighbors`).\n",
    "   - Вывести значения гиперпараметра и метрик для наилучшей модели.\n",
    "   - Осуществить фильтрацию признаков.\n",
    "   - Подобрать лучшую модель с использованием `GridSearchCV` на обучающей выборке с отфильтрованными признаками.\n",
    "   - Вывести полученные гиперпараметры лучшей модели случайного леса.\n",
    "   - Сравнить метрики до и после фильтрации признаков.\n",
    "6. Если наблюдается улучшение метрик после фильтрации признаков хотя бы для одной из моделей, то для набора отфильтрованных признаков (пересечение множеств отфильтрованных признаков каждой модели или объединение множеств &ndash; не особо важно, главное описать, каким образом получен новый subset данных) заново построить наилучшие модели `KNeighborsClassifier`, `DecisionTreeClassifier`, `RandomForestClassifier`, сравнить модели в пункте 7 на одинаковом полученном наборе отфильтрованных признаков. Иначе &ndash; пропустить этот пункт.\n",
    "7. Оценка качества построенных моделей:\n",
    "   - Визуализировать любое полученное дерево решений.\n",
    "     > Для вывода названий признаков в граф необходимо задать значение аргумента `feature_names` в `sklearn.tree.export_graphviz`, для вывода названий классов &ndash; `class_names` (перед кодированием целевого признака можно сохранить названия в отдельный массив).\n",
    "   - Сравнить лучшие модели `KNeighborsClassifier`, `DecisionTreeClassifier`, `RandomForestClassifier` на **тестовой выборке**. Привести значения метрик $accuracy$, $precision$, $recall$, $\\textit{f-measure}$."
   ]
  },
  {
   "cell_type": "markdown",
   "id": "d6c67c80",
   "metadata": {},
   "source": [
    "https://www.kaggle.com/datasets/kapturovalexander/bank-credit-scoring/data\n",
    "## Описание датасета\n",
    "\n",
    "Эти данные связаны с кампаниями прямого маркетинга португальского банковского учреждения. Маркетинговые кампании были основаны на телефонных звонках. Часто требуется более одного контакта с одним и тем же клиентом, чтобы узнать, будет ли продукт (банковский срочный депозит) подписан (\"да\") или нет (\"нет\"). \n",
    "\n",
    "- age\t\t$\\;\\;\\;\\;\\;\\;$\tВозраст.\n",
    "- job\t\t$\\;\\;\\;\\;\\;\\;$\tПрофессия: \n",
    "   - 'admin.',\n",
    "   - 'blue-collar',\n",
    "   - 'entrepreneur',\n",
    "   - 'housemaid',\n",
    "   - 'management',\n",
    "   - 'retired',\n",
    "   - 'self-employed',\n",
    "   - 'services',\n",
    "   - 'student',\n",
    "   - 'technician',\n",
    "   - 'unemployed',\n",
    "   - 'unknown'.\n",
    "- marital\t$\\;\\;\\;\\;\\;\\;$\tCемейное положение:\n",
    "   - 'divorced',\n",
    "   - 'married',\n",
    "   - 'single',\n",
    "   - 'unknown'.\n",
    "   - *`note: 'divorced' means divorced or widowed`*\n",
    "- education\t$\\;\\;\\;\\;\\;\\;$\tСтепень образования:\n",
    "   - 'basic.4y',\n",
    "   - 'basic.6y',\n",
    "   - 'basic.9y',\n",
    "   - 'high.school',\n",
    "   - 'illiterate',\n",
    "   - 'professional.course',\n",
    "   - 'university.degree',\n",
    "   - 'unknown'.\n",
    "- default\t\t$\\;\\;\\;\\;\\;\\;$\tИмеет просроченный кредит?\n",
    "- balance\t\t$\\;\\;\\;\\;\\;\\;$\tСреднегодовой баланс в евро.\t\n",
    "- housing\t$\\;\\;\\;\\;\\;\\;$\t\tИмеет жилищный кредит?\t\t\n",
    "- loan\t\t$\\;\\;\\;\\;\\;\\;$\tИмеет личный заем?\t\t\n",
    "- contact\t$\\;\\;\\;\\;\\;\\;$\t\tтип связи с клиентом:\n",
    "    - 'cellular',\n",
    "    - 'telephone'.\n",
    "- day_of_week\t\t$\\;\\;\\;\\;\\;\\;$\tПоследний день недели, в который произошел контакт с клиентом.\n",
    "- month\tFeature\tDate\t$\\;\\;\\;\\;\\;\\;$\tПоследний месяц года, в который произошел контакт с клиентом: \n",
    "    - 'jan', \n",
    "    - 'feb',\n",
    "    - 'mar', \n",
    "    - ..., \n",
    "    - 'nov',\n",
    "    - 'dec'.\n",
    "- duration\t$\\;\\;\\;\\;\\;\\;$\t\tПродолжительность последнего контакта, в секундах. *`Важное примечание: этот атрибут сильно влияет на конечный результат (например, если duration=0, то y='no'). Однако длительность неизвестна до выполнения вызова. Кроме того, очевидно, что известно время после завершения вызова. Таким образом, эти исходные данные следует включать только для целей сравнения и от них следует отказаться, если цель состоит в том, чтобы получить реалистичную прогностическую модель.`*\n",
    "- campaign\t\t$\\;\\;\\;\\;\\;\\;$\t\tКоличество контактов, осуществленных в ходе данной кампании и для данного клиента. \n",
    "- pdays\t\t$\\;\\;\\;\\;\\;\\;$\tКоличество дней, прошедших с момента последнего контакта с клиентом в рамках предыдущей кампании. *`-1 означает, что с клиентом ранее не связывались.`*\n",
    "- previous\t$\\;\\;\\;\\;\\;\\;$\t\tКоличество контактов, совершенных до начала данной кампании и для данного клиента.\n",
    "- poutcome\t$\\;\\;\\;\\;\\;\\;$\t\tитоги предыдущей маркетинговой кампании\n",
    "    - 'failure',\n",
    "    - 'nonexistent',\n",
    "    - 'success'.\n",
    "- y\t$\\;\\;\\;\\;\\;\\;$ Целевая переменная. Оформил ли клиент срочный депозит?"
   ]
  },
  {
   "cell_type": "markdown",
   "id": "dcf5344a",
   "metadata": {},
   "source": [
    "Загрузим датасет"
   ]
  },
  {
   "cell_type": "code",
   "execution_count": 2,
   "id": "9661873c",
   "metadata": {},
   "outputs": [],
   "source": [
    "df = pd.read_csv(\"bank.csv\" , sep=\";\")"
   ]
  },
  {
   "cell_type": "code",
   "execution_count": 3,
   "id": "701d4040",
   "metadata": {},
   "outputs": [
    {
     "data": {
      "text/html": [
       "<div>\n",
       "<style scoped>\n",
       "    .dataframe tbody tr th:only-of-type {\n",
       "        vertical-align: middle;\n",
       "    }\n",
       "\n",
       "    .dataframe tbody tr th {\n",
       "        vertical-align: top;\n",
       "    }\n",
       "\n",
       "    .dataframe thead th {\n",
       "        text-align: right;\n",
       "    }\n",
       "</style>\n",
       "<table border=\"1\" class=\"dataframe\">\n",
       "  <thead>\n",
       "    <tr style=\"text-align: right;\">\n",
       "      <th></th>\n",
       "      <th>age</th>\n",
       "      <th>job</th>\n",
       "      <th>marital</th>\n",
       "      <th>education</th>\n",
       "      <th>default</th>\n",
       "      <th>balance</th>\n",
       "      <th>housing</th>\n",
       "      <th>loan</th>\n",
       "      <th>contact</th>\n",
       "      <th>day</th>\n",
       "      <th>month</th>\n",
       "      <th>duration</th>\n",
       "      <th>campaign</th>\n",
       "      <th>pdays</th>\n",
       "      <th>previous</th>\n",
       "      <th>poutcome</th>\n",
       "      <th>y</th>\n",
       "    </tr>\n",
       "  </thead>\n",
       "  <tbody>\n",
       "    <tr>\n",
       "      <th>0</th>\n",
       "      <td>30</td>\n",
       "      <td>unemployed</td>\n",
       "      <td>married</td>\n",
       "      <td>primary</td>\n",
       "      <td>no</td>\n",
       "      <td>1787</td>\n",
       "      <td>no</td>\n",
       "      <td>no</td>\n",
       "      <td>cellular</td>\n",
       "      <td>19</td>\n",
       "      <td>oct</td>\n",
       "      <td>79</td>\n",
       "      <td>1</td>\n",
       "      <td>-1</td>\n",
       "      <td>0</td>\n",
       "      <td>unknown</td>\n",
       "      <td>no</td>\n",
       "    </tr>\n",
       "    <tr>\n",
       "      <th>1</th>\n",
       "      <td>33</td>\n",
       "      <td>services</td>\n",
       "      <td>married</td>\n",
       "      <td>secondary</td>\n",
       "      <td>no</td>\n",
       "      <td>4789</td>\n",
       "      <td>yes</td>\n",
       "      <td>yes</td>\n",
       "      <td>cellular</td>\n",
       "      <td>11</td>\n",
       "      <td>may</td>\n",
       "      <td>220</td>\n",
       "      <td>1</td>\n",
       "      <td>339</td>\n",
       "      <td>4</td>\n",
       "      <td>failure</td>\n",
       "      <td>no</td>\n",
       "    </tr>\n",
       "    <tr>\n",
       "      <th>2</th>\n",
       "      <td>35</td>\n",
       "      <td>management</td>\n",
       "      <td>single</td>\n",
       "      <td>tertiary</td>\n",
       "      <td>no</td>\n",
       "      <td>1350</td>\n",
       "      <td>yes</td>\n",
       "      <td>no</td>\n",
       "      <td>cellular</td>\n",
       "      <td>16</td>\n",
       "      <td>apr</td>\n",
       "      <td>185</td>\n",
       "      <td>1</td>\n",
       "      <td>330</td>\n",
       "      <td>1</td>\n",
       "      <td>failure</td>\n",
       "      <td>no</td>\n",
       "    </tr>\n",
       "    <tr>\n",
       "      <th>3</th>\n",
       "      <td>30</td>\n",
       "      <td>management</td>\n",
       "      <td>married</td>\n",
       "      <td>tertiary</td>\n",
       "      <td>no</td>\n",
       "      <td>1476</td>\n",
       "      <td>yes</td>\n",
       "      <td>yes</td>\n",
       "      <td>unknown</td>\n",
       "      <td>3</td>\n",
       "      <td>jun</td>\n",
       "      <td>199</td>\n",
       "      <td>4</td>\n",
       "      <td>-1</td>\n",
       "      <td>0</td>\n",
       "      <td>unknown</td>\n",
       "      <td>no</td>\n",
       "    </tr>\n",
       "    <tr>\n",
       "      <th>4</th>\n",
       "      <td>59</td>\n",
       "      <td>blue-collar</td>\n",
       "      <td>married</td>\n",
       "      <td>secondary</td>\n",
       "      <td>no</td>\n",
       "      <td>0</td>\n",
       "      <td>yes</td>\n",
       "      <td>no</td>\n",
       "      <td>unknown</td>\n",
       "      <td>5</td>\n",
       "      <td>may</td>\n",
       "      <td>226</td>\n",
       "      <td>1</td>\n",
       "      <td>-1</td>\n",
       "      <td>0</td>\n",
       "      <td>unknown</td>\n",
       "      <td>no</td>\n",
       "    </tr>\n",
       "  </tbody>\n",
       "</table>\n",
       "</div>"
      ],
      "text/plain": [
       "   age          job  marital  education default  balance housing loan  \\\n",
       "0   30   unemployed  married    primary      no     1787      no   no   \n",
       "1   33     services  married  secondary      no     4789     yes  yes   \n",
       "2   35   management   single   tertiary      no     1350     yes   no   \n",
       "3   30   management  married   tertiary      no     1476     yes  yes   \n",
       "4   59  blue-collar  married  secondary      no        0     yes   no   \n",
       "\n",
       "    contact  day month  duration  campaign  pdays  previous poutcome   y  \n",
       "0  cellular   19   oct        79         1     -1         0  unknown  no  \n",
       "1  cellular   11   may       220         1    339         4  failure  no  \n",
       "2  cellular   16   apr       185         1    330         1  failure  no  \n",
       "3   unknown    3   jun       199         4     -1         0  unknown  no  \n",
       "4   unknown    5   may       226         1     -1         0  unknown  no  "
      ]
     },
     "execution_count": 3,
     "metadata": {},
     "output_type": "execute_result"
    }
   ],
   "source": [
    "df.head()"
   ]
  },
  {
   "cell_type": "markdown",
   "id": "5f077678",
   "metadata": {},
   "source": [
    "Посмотрим на информацию о типах данных"
   ]
  },
  {
   "cell_type": "code",
   "execution_count": 4,
   "id": "ef1c8fdd",
   "metadata": {},
   "outputs": [
    {
     "name": "stdout",
     "output_type": "stream",
     "text": [
      "<class 'pandas.core.frame.DataFrame'>\n",
      "RangeIndex: 4521 entries, 0 to 4520\n",
      "Data columns (total 17 columns):\n",
      " #   Column     Non-Null Count  Dtype \n",
      "---  ------     --------------  ----- \n",
      " 0   age        4521 non-null   int64 \n",
      " 1   job        4521 non-null   object\n",
      " 2   marital    4521 non-null   object\n",
      " 3   education  4521 non-null   object\n",
      " 4   default    4521 non-null   object\n",
      " 5   balance    4521 non-null   int64 \n",
      " 6   housing    4521 non-null   object\n",
      " 7   loan       4521 non-null   object\n",
      " 8   contact    4521 non-null   object\n",
      " 9   day        4521 non-null   int64 \n",
      " 10  month      4521 non-null   object\n",
      " 11  duration   4521 non-null   int64 \n",
      " 12  campaign   4521 non-null   int64 \n",
      " 13  pdays      4521 non-null   int64 \n",
      " 14  previous   4521 non-null   int64 \n",
      " 15  poutcome   4521 non-null   object\n",
      " 16  y          4521 non-null   object\n",
      "dtypes: int64(7), object(10)\n",
      "memory usage: 600.6+ KB\n"
     ]
    }
   ],
   "source": [
    "df.info()"
   ]
  },
  {
   "cell_type": "markdown",
   "id": "6ae82599",
   "metadata": {},
   "source": [
    "Посмотрим на описательные статистики"
   ]
  },
  {
   "cell_type": "code",
   "execution_count": 5,
   "id": "e697b353",
   "metadata": {},
   "outputs": [
    {
     "data": {
      "text/html": [
       "<div>\n",
       "<style scoped>\n",
       "    .dataframe tbody tr th:only-of-type {\n",
       "        vertical-align: middle;\n",
       "    }\n",
       "\n",
       "    .dataframe tbody tr th {\n",
       "        vertical-align: top;\n",
       "    }\n",
       "\n",
       "    .dataframe thead th {\n",
       "        text-align: right;\n",
       "    }\n",
       "</style>\n",
       "<table border=\"1\" class=\"dataframe\">\n",
       "  <thead>\n",
       "    <tr style=\"text-align: right;\">\n",
       "      <th></th>\n",
       "      <th>age</th>\n",
       "      <th>balance</th>\n",
       "      <th>day</th>\n",
       "      <th>duration</th>\n",
       "      <th>campaign</th>\n",
       "      <th>pdays</th>\n",
       "      <th>previous</th>\n",
       "    </tr>\n",
       "  </thead>\n",
       "  <tbody>\n",
       "    <tr>\n",
       "      <th>count</th>\n",
       "      <td>4521.000000</td>\n",
       "      <td>4521.000000</td>\n",
       "      <td>4521.000000</td>\n",
       "      <td>4521.000000</td>\n",
       "      <td>4521.000000</td>\n",
       "      <td>4521.000000</td>\n",
       "      <td>4521.000000</td>\n",
       "    </tr>\n",
       "    <tr>\n",
       "      <th>mean</th>\n",
       "      <td>41.170095</td>\n",
       "      <td>1422.657819</td>\n",
       "      <td>15.915284</td>\n",
       "      <td>263.961292</td>\n",
       "      <td>2.793630</td>\n",
       "      <td>39.766645</td>\n",
       "      <td>0.542579</td>\n",
       "    </tr>\n",
       "    <tr>\n",
       "      <th>std</th>\n",
       "      <td>10.576211</td>\n",
       "      <td>3009.638142</td>\n",
       "      <td>8.247667</td>\n",
       "      <td>259.856633</td>\n",
       "      <td>3.109807</td>\n",
       "      <td>100.121124</td>\n",
       "      <td>1.693562</td>\n",
       "    </tr>\n",
       "    <tr>\n",
       "      <th>min</th>\n",
       "      <td>19.000000</td>\n",
       "      <td>-3313.000000</td>\n",
       "      <td>1.000000</td>\n",
       "      <td>4.000000</td>\n",
       "      <td>1.000000</td>\n",
       "      <td>-1.000000</td>\n",
       "      <td>0.000000</td>\n",
       "    </tr>\n",
       "    <tr>\n",
       "      <th>25%</th>\n",
       "      <td>33.000000</td>\n",
       "      <td>69.000000</td>\n",
       "      <td>9.000000</td>\n",
       "      <td>104.000000</td>\n",
       "      <td>1.000000</td>\n",
       "      <td>-1.000000</td>\n",
       "      <td>0.000000</td>\n",
       "    </tr>\n",
       "    <tr>\n",
       "      <th>50%</th>\n",
       "      <td>39.000000</td>\n",
       "      <td>444.000000</td>\n",
       "      <td>16.000000</td>\n",
       "      <td>185.000000</td>\n",
       "      <td>2.000000</td>\n",
       "      <td>-1.000000</td>\n",
       "      <td>0.000000</td>\n",
       "    </tr>\n",
       "    <tr>\n",
       "      <th>75%</th>\n",
       "      <td>49.000000</td>\n",
       "      <td>1480.000000</td>\n",
       "      <td>21.000000</td>\n",
       "      <td>329.000000</td>\n",
       "      <td>3.000000</td>\n",
       "      <td>-1.000000</td>\n",
       "      <td>0.000000</td>\n",
       "    </tr>\n",
       "    <tr>\n",
       "      <th>max</th>\n",
       "      <td>87.000000</td>\n",
       "      <td>71188.000000</td>\n",
       "      <td>31.000000</td>\n",
       "      <td>3025.000000</td>\n",
       "      <td>50.000000</td>\n",
       "      <td>871.000000</td>\n",
       "      <td>25.000000</td>\n",
       "    </tr>\n",
       "  </tbody>\n",
       "</table>\n",
       "</div>"
      ],
      "text/plain": [
       "               age       balance          day     duration     campaign  \\\n",
       "count  4521.000000   4521.000000  4521.000000  4521.000000  4521.000000   \n",
       "mean     41.170095   1422.657819    15.915284   263.961292     2.793630   \n",
       "std      10.576211   3009.638142     8.247667   259.856633     3.109807   \n",
       "min      19.000000  -3313.000000     1.000000     4.000000     1.000000   \n",
       "25%      33.000000     69.000000     9.000000   104.000000     1.000000   \n",
       "50%      39.000000    444.000000    16.000000   185.000000     2.000000   \n",
       "75%      49.000000   1480.000000    21.000000   329.000000     3.000000   \n",
       "max      87.000000  71188.000000    31.000000  3025.000000    50.000000   \n",
       "\n",
       "             pdays     previous  \n",
       "count  4521.000000  4521.000000  \n",
       "mean     39.766645     0.542579  \n",
       "std     100.121124     1.693562  \n",
       "min      -1.000000     0.000000  \n",
       "25%      -1.000000     0.000000  \n",
       "50%      -1.000000     0.000000  \n",
       "75%      -1.000000     0.000000  \n",
       "max     871.000000    25.000000  "
      ]
     },
     "execution_count": 5,
     "metadata": {},
     "output_type": "execute_result"
    }
   ],
   "source": [
    "df.describe()"
   ]
  },
  {
   "cell_type": "markdown",
   "id": "6ed31f79",
   "metadata": {},
   "source": [
    "Посмотрим на распределение классов"
   ]
  },
  {
   "cell_type": "code",
   "execution_count": 6,
   "id": "5f7baa8a",
   "metadata": {},
   "outputs": [
    {
     "data": {
      "text/plain": [
       "y\n",
       "no     4000\n",
       "yes     521\n",
       "Name: count, dtype: int64"
      ]
     },
     "execution_count": 6,
     "metadata": {},
     "output_type": "execute_result"
    }
   ],
   "source": [
    "df.value_counts('y')"
   ]
  },
  {
   "cell_type": "markdown",
   "id": "6b103c6e",
   "metadata": {},
   "source": [
    "Существует дисбаланс классов. Вероятно при классификации модель будет плохо определять класс yes."
   ]
  },
  {
   "cell_type": "markdown",
   "id": "26c49706",
   "metadata": {},
   "source": [
    "Закодируем категориальные переменные"
   ]
  },
  {
   "cell_type": "code",
   "execution_count": 7,
   "id": "21da45c2",
   "metadata": {},
   "outputs": [
    {
     "data": {
      "text/html": [
       "<div>\n",
       "<style scoped>\n",
       "    .dataframe tbody tr th:only-of-type {\n",
       "        vertical-align: middle;\n",
       "    }\n",
       "\n",
       "    .dataframe tbody tr th {\n",
       "        vertical-align: top;\n",
       "    }\n",
       "\n",
       "    .dataframe thead th {\n",
       "        text-align: right;\n",
       "    }\n",
       "</style>\n",
       "<table border=\"1\" class=\"dataframe\">\n",
       "  <thead>\n",
       "    <tr style=\"text-align: right;\">\n",
       "      <th></th>\n",
       "      <th>age</th>\n",
       "      <th>default</th>\n",
       "      <th>balance</th>\n",
       "      <th>housing</th>\n",
       "      <th>loan</th>\n",
       "      <th>day</th>\n",
       "      <th>month</th>\n",
       "      <th>duration</th>\n",
       "      <th>campaign</th>\n",
       "      <th>pdays</th>\n",
       "      <th>...</th>\n",
       "      <th>education_secondary</th>\n",
       "      <th>education_tertiary</th>\n",
       "      <th>education_unknown</th>\n",
       "      <th>contact_cellular</th>\n",
       "      <th>contact_telephone</th>\n",
       "      <th>contact_unknown</th>\n",
       "      <th>poutcome_failure</th>\n",
       "      <th>poutcome_other</th>\n",
       "      <th>poutcome_success</th>\n",
       "      <th>poutcome_unknown</th>\n",
       "    </tr>\n",
       "  </thead>\n",
       "  <tbody>\n",
       "    <tr>\n",
       "      <th>0</th>\n",
       "      <td>30</td>\n",
       "      <td>0</td>\n",
       "      <td>1787</td>\n",
       "      <td>0</td>\n",
       "      <td>0</td>\n",
       "      <td>19</td>\n",
       "      <td>oct</td>\n",
       "      <td>79</td>\n",
       "      <td>1</td>\n",
       "      <td>-1</td>\n",
       "      <td>...</td>\n",
       "      <td>False</td>\n",
       "      <td>False</td>\n",
       "      <td>False</td>\n",
       "      <td>True</td>\n",
       "      <td>False</td>\n",
       "      <td>False</td>\n",
       "      <td>False</td>\n",
       "      <td>False</td>\n",
       "      <td>False</td>\n",
       "      <td>True</td>\n",
       "    </tr>\n",
       "    <tr>\n",
       "      <th>1</th>\n",
       "      <td>33</td>\n",
       "      <td>0</td>\n",
       "      <td>4789</td>\n",
       "      <td>1</td>\n",
       "      <td>1</td>\n",
       "      <td>11</td>\n",
       "      <td>may</td>\n",
       "      <td>220</td>\n",
       "      <td>1</td>\n",
       "      <td>339</td>\n",
       "      <td>...</td>\n",
       "      <td>True</td>\n",
       "      <td>False</td>\n",
       "      <td>False</td>\n",
       "      <td>True</td>\n",
       "      <td>False</td>\n",
       "      <td>False</td>\n",
       "      <td>True</td>\n",
       "      <td>False</td>\n",
       "      <td>False</td>\n",
       "      <td>False</td>\n",
       "    </tr>\n",
       "    <tr>\n",
       "      <th>2</th>\n",
       "      <td>35</td>\n",
       "      <td>0</td>\n",
       "      <td>1350</td>\n",
       "      <td>1</td>\n",
       "      <td>0</td>\n",
       "      <td>16</td>\n",
       "      <td>apr</td>\n",
       "      <td>185</td>\n",
       "      <td>1</td>\n",
       "      <td>330</td>\n",
       "      <td>...</td>\n",
       "      <td>False</td>\n",
       "      <td>True</td>\n",
       "      <td>False</td>\n",
       "      <td>True</td>\n",
       "      <td>False</td>\n",
       "      <td>False</td>\n",
       "      <td>True</td>\n",
       "      <td>False</td>\n",
       "      <td>False</td>\n",
       "      <td>False</td>\n",
       "    </tr>\n",
       "    <tr>\n",
       "      <th>3</th>\n",
       "      <td>30</td>\n",
       "      <td>0</td>\n",
       "      <td>1476</td>\n",
       "      <td>1</td>\n",
       "      <td>1</td>\n",
       "      <td>3</td>\n",
       "      <td>jun</td>\n",
       "      <td>199</td>\n",
       "      <td>4</td>\n",
       "      <td>-1</td>\n",
       "      <td>...</td>\n",
       "      <td>False</td>\n",
       "      <td>True</td>\n",
       "      <td>False</td>\n",
       "      <td>False</td>\n",
       "      <td>False</td>\n",
       "      <td>True</td>\n",
       "      <td>False</td>\n",
       "      <td>False</td>\n",
       "      <td>False</td>\n",
       "      <td>True</td>\n",
       "    </tr>\n",
       "    <tr>\n",
       "      <th>4</th>\n",
       "      <td>59</td>\n",
       "      <td>0</td>\n",
       "      <td>0</td>\n",
       "      <td>1</td>\n",
       "      <td>0</td>\n",
       "      <td>5</td>\n",
       "      <td>may</td>\n",
       "      <td>226</td>\n",
       "      <td>1</td>\n",
       "      <td>-1</td>\n",
       "      <td>...</td>\n",
       "      <td>True</td>\n",
       "      <td>False</td>\n",
       "      <td>False</td>\n",
       "      <td>False</td>\n",
       "      <td>False</td>\n",
       "      <td>True</td>\n",
       "      <td>False</td>\n",
       "      <td>False</td>\n",
       "      <td>False</td>\n",
       "      <td>True</td>\n",
       "    </tr>\n",
       "  </tbody>\n",
       "</table>\n",
       "<p>5 rows × 38 columns</p>\n",
       "</div>"
      ],
      "text/plain": [
       "   age  default  balance  housing  loan  day month  duration  campaign  pdays  \\\n",
       "0   30        0     1787        0     0   19   oct        79         1     -1   \n",
       "1   33        0     4789        1     1   11   may       220         1    339   \n",
       "2   35        0     1350        1     0   16   apr       185         1    330   \n",
       "3   30        0     1476        1     1    3   jun       199         4     -1   \n",
       "4   59        0        0        1     0    5   may       226         1     -1   \n",
       "\n",
       "   ...  education_secondary  education_tertiary  education_unknown  \\\n",
       "0  ...                False               False              False   \n",
       "1  ...                 True               False              False   \n",
       "2  ...                False                True              False   \n",
       "3  ...                False                True              False   \n",
       "4  ...                 True               False              False   \n",
       "\n",
       "   contact_cellular  contact_telephone  contact_unknown  poutcome_failure  \\\n",
       "0              True              False            False             False   \n",
       "1              True              False            False              True   \n",
       "2              True              False            False              True   \n",
       "3             False              False             True             False   \n",
       "4             False              False             True             False   \n",
       "\n",
       "   poutcome_other  poutcome_success  poutcome_unknown  \n",
       "0           False             False              True  \n",
       "1           False             False             False  \n",
       "2           False             False             False  \n",
       "3           False             False              True  \n",
       "4           False             False              True  \n",
       "\n",
       "[5 rows x 38 columns]"
      ]
     },
     "execution_count": 7,
     "metadata": {},
     "output_type": "execute_result"
    }
   ],
   "source": [
    "le = LabelEncoder()\n",
    "\n",
    "categorical = [\"job\", \"marital\", \"education\", \"contact\", \"poutcome\"]\n",
    "\n",
    "df['default'] = le.fit_transform(df['default'])\n",
    "df['housing'] = le.fit_transform(df['housing'])\n",
    "df['loan'] = le.fit_transform(df['loan'])\n",
    "df['y'] = le.fit_transform(df['y'])\n",
    "\n",
    "df = pd.get_dummies(data = df, prefix = categorical, columns = categorical)\n",
    "\n",
    "df.head()"
   ]
  },
  {
   "cell_type": "markdown",
   "id": "50592698",
   "metadata": {},
   "source": [
    "Выделим данные для обучения"
   ]
  },
  {
   "cell_type": "code",
   "execution_count": 8,
   "id": "a55f1789",
   "metadata": {},
   "outputs": [],
   "source": [
    "X = df.drop([\"day\", \"month\", \"y\"], axis=1)\n",
    "y = df[\"y\"].copy()"
   ]
  },
  {
   "cell_type": "markdown",
   "id": "c8cd1dc2",
   "metadata": {},
   "source": [
    "Нормализуем и разделим данные на тестовые и тренировочные"
   ]
  },
  {
   "cell_type": "code",
   "execution_count": 9,
   "id": "1e20de8d",
   "metadata": {},
   "outputs": [],
   "source": [
    "scaler = StandardScaler()\n",
    "X_scaled = scaler.fit_transform(X)\n",
    "\n",
    "X_train, X_test, y_train, y_test = train_test_split(X_scaled, y, test_size=0.3, random_state=0)"
   ]
  },
  {
   "cell_type": "markdown",
   "id": "c7565cb1",
   "metadata": {},
   "source": [
    "Создадим модель и с помощью GridSearch осуществим подбор гиперпараметров max_features, max_depth."
   ]
  },
  {
   "cell_type": "code",
   "execution_count": 14,
   "id": "96aa5784",
   "metadata": {},
   "outputs": [
    {
     "name": "stdout",
     "output_type": "stream",
     "text": [
      "\n",
      "Best parameters: {'max_depth': 4, 'max_features': 20}\n",
      "Best CV accuracy: 0.9020247165396846\n",
      "\n",
      "              precision    recall  f1-score   support\n",
      "\n",
      "           0       0.92      0.99      0.95      2810\n",
      "           1       0.73      0.33      0.45       354\n",
      "\n",
      "    accuracy                           0.91      3164\n",
      "   macro avg       0.83      0.66      0.70      3164\n",
      "weighted avg       0.90      0.91      0.90      3164\n",
      "\n"
     ]
    }
   ],
   "source": [
    "clf = DecisionTreeClassifier(random_state=0)\n",
    "\n",
    "param_grid_tree = {\n",
    "    'max_features': [5, 10, 15, 20, 25, 30, 35],\n",
    "    'max_depth': [2, 4, 8, 16, 32, 64, None],\n",
    "}\n",
    "\n",
    "grid_search_tree = GridSearchCV(estimator=clf, param_grid=param_grid_tree, cv=5, scoring='accuracy')\n",
    "\n",
    "grid_search_tree.fit(X_train, y_train)\n",
    "\n",
    "print(f\"\\nBest parameters: {grid_search_tree.best_params_}\"\n",
    "      f\"\\nBest CV accuracy: {grid_search_tree.best_score_}\\n\")\n",
    "\n",
    "best_clf_tree = grid_search_tree.best_estimator_\n",
    "\n",
    "preds = best_clf_tree.predict(X_train)\n",
    "print(classification_report(y_train, preds))"
   ]
  },
  {
   "cell_type": "markdown",
   "id": "20511830",
   "metadata": {},
   "source": [
    "Как можно заметить, класс 0 модель довольно точно определяет, а класс 1 наоборот. Как и было замечено ранее это происходит из-за дисбаланса классов в данных."
   ]
  },
  {
   "cell_type": "markdown",
   "id": "56c20a13",
   "metadata": {},
   "source": [
    "Выведем важность признаков и отберем только те, важность которых превышает 0.003."
   ]
  },
  {
   "cell_type": "code",
   "execution_count": 15,
   "id": "2b9f0d8c",
   "metadata": {},
   "outputs": [
    {
     "name": "stdout",
     "output_type": "stream",
     "text": [
      "duration               0.615463\n",
      "poutcome_success       0.213185\n",
      "pdays                  0.092609\n",
      "age                    0.053387\n",
      "contact_unknown        0.021815\n",
      "job_retired            0.003541\n",
      "education_secondary    0.000000\n",
      "marital_divorced       0.000000\n",
      "marital_married        0.000000\n",
      "marital_single         0.000000\n",
      "education_primary      0.000000\n",
      "contact_cellular       0.000000\n",
      "education_tertiary     0.000000\n",
      "education_unknown      0.000000\n",
      "job_unemployed         0.000000\n",
      "contact_telephone      0.000000\n",
      "poutcome_failure       0.000000\n",
      "poutcome_other         0.000000\n",
      "job_unknown            0.000000\n",
      "job_student            0.000000\n",
      "job_technician         0.000000\n",
      "default                0.000000\n",
      "job_services           0.000000\n",
      "job_self-employed      0.000000\n",
      "job_management         0.000000\n",
      "job_housemaid          0.000000\n",
      "job_entrepreneur       0.000000\n",
      "job_blue-collar        0.000000\n",
      "job_admin.             0.000000\n",
      "previous               0.000000\n",
      "campaign               0.000000\n",
      "loan                   0.000000\n",
      "housing                0.000000\n",
      "balance                0.000000\n",
      "poutcome_unknown       0.000000\n",
      "dtype: float64\n",
      "\n",
      "Features: Index(['duration', 'poutcome_success', 'pdays', 'age', 'contact_unknown',\n",
      "       'job_retired'],\n",
      "      dtype='object')\n"
     ]
    }
   ],
   "source": [
    "importances_tree = pd.Series(best_clf_tree.feature_importances_, index=X.columns).sort_values(ascending=False)\n",
    "print(importances_tree)\n",
    "\n",
    "selected_features_tree = importances_tree[importances_tree > 0.003].index\n",
    "\n",
    "print(f\"\\nFeatures: {selected_features_tree}\")"
   ]
  },
  {
   "cell_type": "code",
   "execution_count": 16,
   "id": "7e36b05c",
   "metadata": {},
   "outputs": [],
   "source": [
    "X_filtered = df[selected_features_tree].copy()\n",
    "\n",
    "scaler = StandardScaler()\n",
    "X_filtered_scaled = scaler.fit_transform(X_filtered)\n",
    "\n",
    "X_train_filtered, X_test_filtered, y_train, y_test = train_test_split(X_filtered_scaled, y, test_size=0.3, random_state=0)"
   ]
  },
  {
   "cell_type": "code",
   "execution_count": 17,
   "id": "ebe0d6a1",
   "metadata": {},
   "outputs": [
    {
     "name": "stdout",
     "output_type": "stream",
     "text": [
      "\n",
      "Best parameters: {'max_depth': 4, 'max_features': 10}\n",
      "Best CV accuracy: 0.9004459375687404\n",
      "\n",
      "              precision    recall  f1-score   support\n",
      "\n",
      "           0       0.93      0.98      0.95      2810\n",
      "           1       0.73      0.37      0.49       354\n",
      "\n",
      "    accuracy                           0.91      3164\n",
      "   macro avg       0.83      0.68      0.72      3164\n",
      "weighted avg       0.90      0.91      0.90      3164\n",
      "\n"
     ]
    }
   ],
   "source": [
    "clf = DecisionTreeClassifier(random_state=0)\n",
    "\n",
    "grid_search_tree = GridSearchCV(estimator=clf, param_grid=param_grid_tree, cv=5, scoring='accuracy')\n",
    "\n",
    "grid_search_tree.fit(X_train_filtered, y_train)\n",
    "\n",
    "print(f\"\\nBest parameters: {grid_search_tree.best_params_}\"\n",
    "      f\"\\nBest CV accuracy: {grid_search_tree.best_score_}\\n\")\n",
    "\n",
    "best_clf_tree = grid_search_tree.best_estimator_\n",
    "\n",
    "preds = best_clf_tree.predict(X_train_filtered)\n",
    "print(classification_report(y_train, preds))"
   ]
  },
  {
   "cell_type": "markdown",
   "id": "525527ef",
   "metadata": {},
   "source": [
    "После фильтрации признаков метрики немного улучшились."
   ]
  },
  {
   "cell_type": "markdown",
   "id": "8ce4cf10",
   "metadata": {},
   "source": [
    "### Random Forest"
   ]
  },
  {
   "cell_type": "code",
   "execution_count": 19,
   "id": "03745410",
   "metadata": {},
   "outputs": [],
   "source": [
    "scaler = StandardScaler()\n",
    "X_scaled = scaler.fit_transform(X)\n",
    "\n",
    "X_train, X_test, y_train, y_test = train_test_split(X_scaled, y, test_size=0.3, random_state=0)"
   ]
  },
  {
   "cell_type": "markdown",
   "id": "140117e2",
   "metadata": {},
   "source": [
    "Создадим модель и с помощью GridSearch осуществим подбор гиперпараметров max_features, max_depth, n_estimators"
   ]
  },
  {
   "cell_type": "code",
   "execution_count": 30,
   "id": "a41ba817",
   "metadata": {},
   "outputs": [
    {
     "name": "stdout",
     "output_type": "stream",
     "text": [
      "\n",
      "Best parameters: {'max_depth': 25, 'max_features': 15, 'n_estimators': 30}\n",
      "Best CV accuracy: 0.9032880396744455\n",
      "\n",
      "              precision    recall  f1-score   support\n",
      "\n",
      "           0       1.00      1.00      1.00      2810\n",
      "           1       1.00      0.97      0.99       354\n",
      "\n",
      "    accuracy                           1.00      3164\n",
      "   macro avg       1.00      0.99      0.99      3164\n",
      "weighted avg       1.00      1.00      1.00      3164\n",
      "\n"
     ]
    }
   ],
   "source": [
    "param_grid_forest = {\n",
    "    'n_estimators': [10, 20, 30, 40, 50],\n",
    "    'max_depth': [5, 10, 15, 20, 25],\n",
    "    'max_features': [5, 10, 15, 20, 25, 30, 35]\n",
    "}\n",
    "\n",
    "clf = RandomForestClassifier(random_state=0)\n",
    "grid_search_forest = GridSearchCV(clf, param_grid_forest, cv=5, scoring='accuracy')\n",
    "grid_search_forest.fit(X_train, y_train)\n",
    "\n",
    "print(f\"\\nBest parameters: {grid_search_forest.best_params_}\"\n",
    "      f\"\\nBest CV accuracy: {grid_search_forest.best_score_}\\n\")\n",
    "\n",
    "best_clf_forest = grid_search_forest.best_estimator_\n",
    "\n",
    "preds = best_clf_forest.predict(X_train)\n",
    "print(classification_report(y_train, preds))"
   ]
  },
  {
   "cell_type": "markdown",
   "id": "cdcee6cd",
   "metadata": {},
   "source": [
    "Модель имеет очень хорошие показатели на обучающей выборке. Она практически всегда правильно предсказывает класс объекта."
   ]
  },
  {
   "cell_type": "markdown",
   "id": "26be10f6",
   "metadata": {},
   "source": [
    "Выведем важность признаков и отберем только те, важность которых превышает 0.005."
   ]
  },
  {
   "cell_type": "code",
   "execution_count": 31,
   "id": "8249ab89",
   "metadata": {},
   "outputs": [
    {
     "name": "stdout",
     "output_type": "stream",
     "text": [
      "duration               0.321573\n",
      "balance                0.132950\n",
      "age                    0.120672\n",
      "poutcome_success       0.065599\n",
      "pdays                  0.058455\n",
      "campaign               0.043148\n",
      "previous               0.020767\n",
      "education_tertiary     0.018296\n",
      "housing                0.017548\n",
      "marital_married        0.016532\n",
      "education_secondary    0.012816\n",
      "job_blue-collar        0.012164\n",
      "job_technician         0.012134\n",
      "contact_cellular       0.011459\n",
      "job_management         0.010644\n",
      "contact_unknown        0.010591\n",
      "loan                   0.009537\n",
      "job_admin.             0.009197\n",
      "marital_single         0.009026\n",
      "education_primary      0.008958\n",
      "marital_divorced       0.008434\n",
      "job_retired            0.008214\n",
      "poutcome_other         0.006363\n",
      "poutcome_unknown       0.006153\n",
      "job_entrepreneur       0.006132\n",
      "job_services           0.005854\n",
      "poutcome_failure       0.005511\n",
      "contact_telephone      0.005289\n",
      "education_unknown      0.005002\n",
      "job_self-employed      0.004569\n",
      "job_unknown            0.004512\n",
      "job_unemployed         0.004192\n",
      "job_housemaid          0.003059\n",
      "job_student            0.002378\n",
      "default                0.002272\n",
      "dtype: float64\n",
      "Features: Index(['duration', 'balance', 'age', 'poutcome_success', 'pdays', 'campaign',\n",
      "       'previous', 'education_tertiary', 'housing', 'marital_married',\n",
      "       'education_secondary', 'job_blue-collar', 'job_technician',\n",
      "       'contact_cellular', 'job_management', 'contact_unknown', 'loan',\n",
      "       'job_admin.', 'marital_single', 'education_primary', 'marital_divorced',\n",
      "       'job_retired', 'poutcome_other', 'poutcome_unknown', 'job_entrepreneur',\n",
      "       'job_services', 'poutcome_failure', 'contact_telephone',\n",
      "       'education_unknown'],\n",
      "      dtype='object')\n"
     ]
    }
   ],
   "source": [
    "importances_forest = pd.Series(best_clf_forest.feature_importances_, index=X.columns).sort_values(ascending=False)\n",
    "print(importances_forest)\n",
    "\n",
    "selected_features_forest = importances_forest[importances_forest > 0.005].index\n",
    "print(f\"Features: {selected_features_forest}\")"
   ]
  },
  {
   "cell_type": "code",
   "execution_count": 32,
   "id": "30a187df",
   "metadata": {},
   "outputs": [],
   "source": [
    "X_filtered = df[selected_features_forest].copy()\n",
    "\n",
    "scaler = StandardScaler()\n",
    "X_filtered_scaled = scaler.fit_transform(X_filtered)\n",
    "\n",
    "X_train_filtered, X_test_filtered, y_train, y_test = train_test_split(X_filtered_scaled, y, test_size=0.3, random_state=0)"
   ]
  },
  {
   "cell_type": "code",
   "execution_count": 33,
   "id": "ed1beef1",
   "metadata": {},
   "outputs": [
    {
     "name": "stdout",
     "output_type": "stream",
     "text": [
      "\n",
      "Best parameters: {'max_depth': 20, 'max_features': 7, 'n_estimators': 50}\n",
      "Best CV accuracy: 0.9036014957905893\n",
      "\n",
      "              precision    recall  f1-score   support\n",
      "\n",
      "           0       1.00      1.00      1.00      2810\n",
      "           1       1.00      0.99      1.00       354\n",
      "\n",
      "    accuracy                           1.00      3164\n",
      "   macro avg       1.00      1.00      1.00      3164\n",
      "weighted avg       1.00      1.00      1.00      3164\n",
      "\n"
     ]
    }
   ],
   "source": [
    "param_grid_forest = {\n",
    "    'n_estimators': [10, 20, 30, 40, 50],\n",
    "    'max_depth': [5, 10, 15, 20, 25],\n",
    "    'max_features': [1, 3, 5, 7]\n",
    "}\n",
    "\n",
    "clf = RandomForestClassifier(random_state=0)\n",
    "\n",
    "grid_search_forest_opt = GridSearchCV(clf, param_grid_forest, cv=5, scoring='accuracy')\n",
    "grid_search_forest_opt.fit(X_train_filtered, y_train)\n",
    "\n",
    "print(f\"\\nBest parameters: {grid_search_forest_opt.best_params_}\"\n",
    "      f\"\\nBest CV accuracy: {grid_search_forest_opt.best_score_}\\n\")\n",
    "\n",
    "best_clf_forest = grid_search_forest_opt.best_estimator_\n",
    "\n",
    "preds = best_clf_forest.predict(X_train_filtered)\n",
    "print(classification_report(y_train, preds))"
   ]
  },
  {
   "cell_type": "markdown",
   "id": "e5622fce",
   "metadata": {},
   "source": [
    "После отбора признаков модель с точностью 1 стала предсказывать оба класса."
   ]
  },
  {
   "cell_type": "markdown",
   "id": "60042e8a",
   "metadata": {},
   "source": [
    "### KNN"
   ]
  },
  {
   "cell_type": "code",
   "execution_count": 38,
   "id": "ccc1126b",
   "metadata": {},
   "outputs": [
    {
     "name": "stdout",
     "output_type": "stream",
     "text": [
      "\n",
      "Best parameters: {'n_neighbors': 27}\n",
      "Best CV accuracy: 0.8953866458695783\\т\n",
      "              precision    recall  f1-score   support\n",
      "\n",
      "           0       0.90      0.99      0.94      2810\n",
      "           1       0.63      0.15      0.24       354\n",
      "\n",
      "    accuracy                           0.90      3164\n",
      "   macro avg       0.77      0.57      0.59      3164\n",
      "weighted avg       0.87      0.90      0.87      3164\n",
      "\n"
     ]
    }
   ],
   "source": [
    "param_grid_knn = {'n_neighbors': list(range(1, 30))}\n",
    "\n",
    "clf = KNeighborsClassifier()\n",
    "\n",
    "grid_search_knn = GridSearchCV(clf, param_grid_knn, cv=5, scoring='accuracy')\n",
    "grid_search_knn.fit(X_train, y_train)\n",
    "\n",
    "print(f\"\\nBest parameters: {grid_search_knn.best_params_}\"\n",
    "      f\"\\nBest CV accuracy: {grid_search_knn.best_score_}\\т\")\n",
    "\n",
    "best_clf_knn = grid_search_knn.best_estimator_\n",
    "\n",
    "preds = best_clf_knn.predict(X_train)\n",
    "print(classification_report(y_train, preds))"
   ]
  },
  {
   "cell_type": "markdown",
   "id": "e5cc211c",
   "metadata": {},
   "source": [
    "Данная модель хуже всех определяет класс 1."
   ]
  },
  {
   "cell_type": "code",
   "execution_count": 39,
   "id": "bbe08235",
   "metadata": {},
   "outputs": [],
   "source": [
    "X_filtered = df[selected_features_tree].copy()\n",
    "\n",
    "scaler = StandardScaler()\n",
    "X_filtered_scaled = scaler.fit_transform(X_filtered)\n",
    "\n",
    "X_train_filtered, X_test_filtered, y_train, y_test = train_test_split(X_filtered_scaled, y, test_size=0.3, random_state=0)"
   ]
  },
  {
   "cell_type": "code",
   "execution_count": 40,
   "id": "d6ae51db",
   "metadata": {},
   "outputs": [
    {
     "name": "stdout",
     "output_type": "stream",
     "text": [
      "\n",
      "Best parameters: {'n_neighbors': 25}\n",
      "Best CV accuracy: 0.9001304817325575\n",
      "\n",
      "              precision    recall  f1-score   support\n",
      "\n",
      "           0       0.92      0.98      0.95      2810\n",
      "           1       0.63      0.33      0.43       354\n",
      "\n",
      "    accuracy                           0.90      3164\n",
      "   macro avg       0.78      0.65      0.69      3164\n",
      "weighted avg       0.89      0.90      0.89      3164\n",
      "\n"
     ]
    }
   ],
   "source": [
    "clf = KNeighborsClassifier()\n",
    "\n",
    "grid_search_knn = GridSearchCV(clf, param_grid_knn, cv=5, scoring='accuracy')\n",
    "grid_search_knn.fit(X_train_filtered, y_train)\n",
    "\n",
    "print(f\"\\nBest parameters: {grid_search_knn.best_params_}\"\n",
    "      f\"\\nBest CV accuracy: {grid_search_knn.best_score_}\\n\")\n",
    "\n",
    "best_clf_knn = grid_search_knn.best_estimator_\n",
    "\n",
    "preds = best_clf_knn.predict(X_train_filtered)\n",
    "print(classification_report(y_train, preds))"
   ]
  },
  {
   "cell_type": "markdown",
   "id": "7400c293",
   "metadata": {},
   "source": [
    "Метрики значительно улучшились. Модель стала намного лучше определять класс 1."
   ]
  },
  {
   "cell_type": "markdown",
   "id": "23754ee3",
   "metadata": {},
   "source": [
    "### Сравнение моделей"
   ]
  },
  {
   "cell_type": "markdown",
   "id": "cd370530",
   "metadata": {},
   "source": [
    "Сравним модели на наборе данных, который будет являться пересечением множеств отобранных признаков для каждой из моделей."
   ]
  },
  {
   "cell_type": "code",
   "execution_count": 41,
   "id": "d0abccb4",
   "metadata": {},
   "outputs": [],
   "source": [
    "features = set(selected_features_tree).intersection(selected_features_forest)\n",
    "\n",
    "X_opt = df[list(features)].copy()\n",
    "scaler = StandardScaler()\n",
    "X_filtered_scaled = scaler.fit_transform(X_opt)\n",
    "\n",
    "X_train_filtered, X_test_filtered, y_train, y_test = train_test_split(X_filtered_scaled, y, test_size=0.3, random_state=0)"
   ]
  },
  {
   "cell_type": "code",
   "execution_count": 42,
   "id": "0eba5dd1",
   "metadata": {},
   "outputs": [],
   "source": [
    "decision_tree = DecisionTreeClassifier(**grid_search_tree.best_params_, random_state=0).fit(X_train_filtered, y_train)\n",
    "random_forest = RandomForestClassifier(**grid_search_forest.best_params_, random_state=0).fit(X_train_filtered, y_train)\n",
    "knn = KNeighborsClassifier(**grid_search_knn.best_params_).fit(X_train_filtered, y_train)"
   ]
  },
  {
   "cell_type": "code",
   "execution_count": 43,
   "id": "663df474",
   "metadata": {
    "scrolled": false
   },
   "outputs": [
    {
     "name": "stdout",
     "output_type": "stream",
     "text": [
      "Decision Tree\n",
      "Accuracy: 0.9005158437730287\n",
      "Precision: 0.7898249801113764\n",
      "Recall: 0.6833190761334473\n",
      "F1-score: 0.7196062135244716\n",
      "Report:\n",
      "              precision    recall  f1-score   support\n",
      "\n",
      "           0       0.92      0.97      0.94      1190\n",
      "           1       0.66      0.40      0.49       167\n",
      "\n",
      "    accuracy                           0.90      1357\n",
      "   macro avg       0.79      0.68      0.72      1357\n",
      "weighted avg       0.89      0.90      0.89      1357\n",
      "\n",
      "\n"
     ]
    },
    {
     "data": {
      "image/png": "[encoded data removed]",
      "text/plain": [
       "<Figure size 640x480 with 2 Axes>"
      ]
     },
     "metadata": {},
     "output_type": "display_data"
    },
    {
     "name": "stdout",
     "output_type": "stream",
     "text": [
      "Random Forest\n",
      "Accuracy: 0.8754605747973471\n",
      "Precision: 0.7041815560152969\n",
      "Recall: 0.6638856740300911\n",
      "F1-score: 0.6805275204116743\n",
      "Report:\n",
      "              precision    recall  f1-score   support\n",
      "\n",
      "           0       0.92      0.94      0.93      1190\n",
      "           1       0.49      0.38      0.43       167\n",
      "\n",
      "    accuracy                           0.88      1357\n",
      "   macro avg       0.70      0.66      0.68      1357\n",
      "weighted avg       0.86      0.88      0.87      1357\n",
      "\n",
      "\n"
     ]
    },
    {
     "data": {
      "image/png": "[encoded data removed]",
      "text/plain": [
       "<Figure size 640x480 with 2 Axes>"
      ]
     },
     "metadata": {},
     "output_type": "display_data"
    },
    {
     "name": "stdout",
     "output_type": "stream",
     "text": [
      "kNN\n",
      "Accuracy: 0.8938835666912307\n",
      "Precision: 0.7687108683816524\n",
      "Recall: 0.6589468122578372\n",
      "F1-score: 0.6937370697761897\n",
      "Report:\n",
      "              precision    recall  f1-score   support\n",
      "\n",
      "           0       0.91      0.97      0.94      1190\n",
      "           1       0.62      0.35      0.45       167\n",
      "\n",
      "    accuracy                           0.89      1357\n",
      "   macro avg       0.77      0.66      0.69      1357\n",
      "weighted avg       0.88      0.89      0.88      1357\n",
      "\n",
      "\n"
     ]
    },
    {
     "data": {
      "image/png": "[encoded data removed]",
      "text/plain": [
       "<Figure size 640x480 with 2 Axes>"
      ]
     },
     "metadata": {},
     "output_type": "display_data"
    }
   ],
   "source": [
    "models = {\n",
    "    \"Decision Tree\": decision_tree,\n",
    "    \"Random Forest\": random_forest,\n",
    "    \"kNN\": knn\n",
    "}\n",
    "\n",
    "for name, model in models.items():\n",
    "    preds = model.predict(X_test_filtered)\n",
    "    print(f\"{name}\"\n",
    "          f\"\\nAccuracy: {accuracy_score(y_test, preds)}\"\n",
    "          f\"\\nPrecision: {precision_score(y_test, preds, average='macro')}\"\n",
    "          f\"\\nRecall: {recall_score(y_test, preds, average='macro')}\"\n",
    "          f\"\\nF1-score: {f1_score(y_test, preds, average='macro')}\"\n",
    "          f\"\\nReport:\\n{classification_report(y_test, preds)}\\n\")\n",
    "\n",
    "\n",
    "    cm = confusion_matrix(y_test, preds)\n",
    "    sns.heatmap(cm, annot=True, fmt='d', cmap='Blues')\n",
    "    plt.title(f'Confusion Matrix - {name}')\n",
    "    plt.xlabel('Predicted')\n",
    "    plt.ylabel('True')\n",
    "    plt.show()"
   ]
  },
  {
   "cell_type": "markdown",
   "id": "55a7e24e",
   "metadata": {},
   "source": [
    "Лучше всего с классификацией справилась модель DecisionTree, она показала наилучшую метрику f1. RandomForest и Knn справились пркатически одинаково."
   ]
  },
  {
   "cell_type": "code",
   "execution_count": 44,
   "id": "e40d8fe0",
   "metadata": {},
   "outputs": [
    {
     "data": {
      "image/png": "[encoded data removed]",
      "text/plain": [
       "<Figure size 2000x1000 with 1 Axes>"
      ]
     },
     "metadata": {},
     "output_type": "display_data"
    }
   ],
   "source": [
    "plt.figure(figsize=(20,10))\n",
    "plot_tree(decision_tree, feature_names=X_opt.columns, class_names=['0', '1'], filled=True)\n",
    "plt.show()"
   ]
  },
  {
   "cell_type": "code",
   "execution_count": null,
   "id": "17b392d0",
   "metadata": {},
   "outputs": [],
   "source": []
  }
 ],
 "metadata": {
  "kernelspec": {
   "display_name": "Python 3 (ipykernel)",
   "language": "python",
   "name": "python3"
  },
  "language_info": {
   "codemirror_mode": {
    "name": "ipython",
    "version": 3
   },
   "file_extension": ".py",
   "mimetype": "text/x-python",
   "name": "python",
   "nbconvert_exporter": "python",
   "pygments_lexer": "ipython3",
   "version": "3.9.18"
  }
 },
 "nbformat": 4,
 "nbformat_minor": 5
}
